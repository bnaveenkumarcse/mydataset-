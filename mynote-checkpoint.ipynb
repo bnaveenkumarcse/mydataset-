{
 "cells": [
  {
   "cell_type": "code",
   "execution_count": 8,
   "id": "38803eb7-230e-4574-9ff6-474585a757c7",
   "metadata": {},
   "outputs": [],
   "source": [
    "import pandas as pd\n",
    "data=pd.read_csv('customer_shopping_data.csv')"
   ]
  },
  {
   "cell_type": "code",
   "execution_count": 9,
   "id": "d86f7fd1-1d2e-457f-8118-d55469f91229",
   "metadata": {},
   "outputs": [
    {
     "data": {
      "text/html": [
       "<div>\n",
       "<style scoped>\n",
       "    .dataframe tbody tr th:only-of-type {\n",
       "        vertical-align: middle;\n",
       "    }\n",
       "\n",
       "    .dataframe tbody tr th {\n",
       "        vertical-align: top;\n",
       "    }\n",
       "\n",
       "    .dataframe thead th {\n",
       "        text-align: right;\n",
       "    }\n",
       "</style>\n",
       "<table border=\"1\" class=\"dataframe\">\n",
       "  <thead>\n",
       "    <tr style=\"text-align: right;\">\n",
       "      <th></th>\n",
       "      <th>invoice_no</th>\n",
       "      <th>customer_id</th>\n",
       "      <th>gender</th>\n",
       "      <th>age</th>\n",
       "      <th>category</th>\n",
       "      <th>quantity</th>\n",
       "      <th>price</th>\n",
       "      <th>payment_method</th>\n",
       "      <th>invoice_date</th>\n",
       "      <th>shopping_mall</th>\n",
       "    </tr>\n",
       "  </thead>\n",
       "  <tbody>\n",
       "    <tr>\n",
       "      <th>0</th>\n",
       "      <td>I138884</td>\n",
       "      <td>C241288</td>\n",
       "      <td>Female</td>\n",
       "      <td>28</td>\n",
       "      <td>Clothing</td>\n",
       "      <td>5</td>\n",
       "      <td>1500.40</td>\n",
       "      <td>Credit Card</td>\n",
       "      <td>5/8/2022</td>\n",
       "      <td>Kanyon</td>\n",
       "    </tr>\n",
       "    <tr>\n",
       "      <th>1</th>\n",
       "      <td>I317333</td>\n",
       "      <td>C111565</td>\n",
       "      <td>Male</td>\n",
       "      <td>21</td>\n",
       "      <td>Shoes</td>\n",
       "      <td>3</td>\n",
       "      <td>1800.51</td>\n",
       "      <td>Debit Card</td>\n",
       "      <td>12/12/2021</td>\n",
       "      <td>Forum Istanbul</td>\n",
       "    </tr>\n",
       "    <tr>\n",
       "      <th>2</th>\n",
       "      <td>I127801</td>\n",
       "      <td>C266599</td>\n",
       "      <td>Male</td>\n",
       "      <td>20</td>\n",
       "      <td>Clothing</td>\n",
       "      <td>1</td>\n",
       "      <td>300.08</td>\n",
       "      <td>Cash</td>\n",
       "      <td>9/11/2021</td>\n",
       "      <td>Metrocity</td>\n",
       "    </tr>\n",
       "    <tr>\n",
       "      <th>3</th>\n",
       "      <td>I173702</td>\n",
       "      <td>C988172</td>\n",
       "      <td>Female</td>\n",
       "      <td>66</td>\n",
       "      <td>Shoes</td>\n",
       "      <td>5</td>\n",
       "      <td>3000.85</td>\n",
       "      <td>Credit Card</td>\n",
       "      <td>16/05/2021</td>\n",
       "      <td>Metropol AVM</td>\n",
       "    </tr>\n",
       "    <tr>\n",
       "      <th>4</th>\n",
       "      <td>I337046</td>\n",
       "      <td>C189076</td>\n",
       "      <td>Female</td>\n",
       "      <td>53</td>\n",
       "      <td>Books</td>\n",
       "      <td>4</td>\n",
       "      <td>60.60</td>\n",
       "      <td>Cash</td>\n",
       "      <td>24/10/2021</td>\n",
       "      <td>Kanyon</td>\n",
       "    </tr>\n",
       "    <tr>\n",
       "      <th>5</th>\n",
       "      <td>I227836</td>\n",
       "      <td>C657758</td>\n",
       "      <td>Female</td>\n",
       "      <td>28</td>\n",
       "      <td>Clothing</td>\n",
       "      <td>5</td>\n",
       "      <td>1500.40</td>\n",
       "      <td>Credit Card</td>\n",
       "      <td>24/05/2022</td>\n",
       "      <td>Forum Istanbul</td>\n",
       "    </tr>\n",
       "    <tr>\n",
       "      <th>6</th>\n",
       "      <td>I121056</td>\n",
       "      <td>C151197</td>\n",
       "      <td>Female</td>\n",
       "      <td>49</td>\n",
       "      <td>Cosmetics</td>\n",
       "      <td>1</td>\n",
       "      <td>40.66</td>\n",
       "      <td>Cash</td>\n",
       "      <td>13/03/2022</td>\n",
       "      <td>Istinye Park</td>\n",
       "    </tr>\n",
       "    <tr>\n",
       "      <th>7</th>\n",
       "      <td>I293112</td>\n",
       "      <td>C176086</td>\n",
       "      <td>Female</td>\n",
       "      <td>32</td>\n",
       "      <td>Clothing</td>\n",
       "      <td>2</td>\n",
       "      <td>600.16</td>\n",
       "      <td>Credit Card</td>\n",
       "      <td>13/01/2021</td>\n",
       "      <td>Mall of Istanbul</td>\n",
       "    </tr>\n",
       "    <tr>\n",
       "      <th>8</th>\n",
       "      <td>I293455</td>\n",
       "      <td>C159642</td>\n",
       "      <td>Male</td>\n",
       "      <td>69</td>\n",
       "      <td>Clothing</td>\n",
       "      <td>3</td>\n",
       "      <td>900.24</td>\n",
       "      <td>Credit Card</td>\n",
       "      <td>4/11/2021</td>\n",
       "      <td>Metrocity</td>\n",
       "    </tr>\n",
       "    <tr>\n",
       "      <th>9</th>\n",
       "      <td>I326945</td>\n",
       "      <td>C283361</td>\n",
       "      <td>Female</td>\n",
       "      <td>60</td>\n",
       "      <td>Clothing</td>\n",
       "      <td>2</td>\n",
       "      <td>600.16</td>\n",
       "      <td>Credit Card</td>\n",
       "      <td>22/08/2021</td>\n",
       "      <td>Kanyon</td>\n",
       "    </tr>\n",
       "  </tbody>\n",
       "</table>\n",
       "</div>"
      ],
      "text/plain": [
       "  invoice_no customer_id  gender  age   category  quantity    price  \\\n",
       "0    I138884     C241288  Female   28   Clothing         5  1500.40   \n",
       "1    I317333     C111565    Male   21      Shoes         3  1800.51   \n",
       "2    I127801     C266599    Male   20   Clothing         1   300.08   \n",
       "3    I173702     C988172  Female   66      Shoes         5  3000.85   \n",
       "4    I337046     C189076  Female   53      Books         4    60.60   \n",
       "5    I227836     C657758  Female   28   Clothing         5  1500.40   \n",
       "6    I121056     C151197  Female   49  Cosmetics         1    40.66   \n",
       "7    I293112     C176086  Female   32   Clothing         2   600.16   \n",
       "8    I293455     C159642    Male   69   Clothing         3   900.24   \n",
       "9    I326945     C283361  Female   60   Clothing         2   600.16   \n",
       "\n",
       "  payment_method invoice_date     shopping_mall  \n",
       "0    Credit Card     5/8/2022            Kanyon  \n",
       "1     Debit Card   12/12/2021    Forum Istanbul  \n",
       "2           Cash    9/11/2021         Metrocity  \n",
       "3    Credit Card   16/05/2021      Metropol AVM  \n",
       "4           Cash   24/10/2021            Kanyon  \n",
       "5    Credit Card   24/05/2022    Forum Istanbul  \n",
       "6           Cash   13/03/2022      Istinye Park  \n",
       "7    Credit Card   13/01/2021  Mall of Istanbul  \n",
       "8    Credit Card    4/11/2021         Metrocity  \n",
       "9    Credit Card   22/08/2021            Kanyon  "
      ]
     },
     "execution_count": 9,
     "metadata": {},
     "output_type": "execute_result"
    }
   ],
   "source": [
    "data.head(10)"
   ]
  },
  {
   "cell_type": "code",
   "execution_count": 10,
   "id": "f800ac15-4fc3-4d41-95e8-4ccf80e3d592",
   "metadata": {},
   "outputs": [
    {
     "data": {
      "text/plain": [
       "(99457, 10)"
      ]
     },
     "execution_count": 10,
     "metadata": {},
     "output_type": "execute_result"
    }
   ],
   "source": [
    "data.shape"
   ]
  },
  {
   "cell_type": "code",
   "execution_count": 11,
   "id": "6bcf9f48-19ba-472e-903e-a746f60c4ac5",
   "metadata": {},
   "outputs": [
    {
     "name": "stdout",
     "output_type": "stream",
     "text": [
      "<class 'pandas.core.frame.DataFrame'>\n",
      "RangeIndex: 99457 entries, 0 to 99456\n",
      "Data columns (total 10 columns):\n",
      " #   Column          Non-Null Count  Dtype  \n",
      "---  ------          --------------  -----  \n",
      " 0   invoice_no      99457 non-null  object \n",
      " 1   customer_id     99457 non-null  object \n",
      " 2   gender          99457 non-null  object \n",
      " 3   age             99457 non-null  int64  \n",
      " 4   category        99457 non-null  object \n",
      " 5   quantity        99457 non-null  int64  \n",
      " 6   price           99457 non-null  float64\n",
      " 7   payment_method  99457 non-null  object \n",
      " 8   invoice_date    99457 non-null  object \n",
      " 9   shopping_mall   99457 non-null  object \n",
      "dtypes: float64(1), int64(2), object(7)\n",
      "memory usage: 7.6+ MB\n"
     ]
    }
   ],
   "source": [
    "data.info()"
   ]
  },
  {
   "cell_type": "code",
   "execution_count": 12,
   "id": "1b11e109-a2f3-4650-a0b3-2c62462db108",
   "metadata": {},
   "outputs": [
    {
     "data": {
      "text/html": [
       "<div>\n",
       "<style scoped>\n",
       "    .dataframe tbody tr th:only-of-type {\n",
       "        vertical-align: middle;\n",
       "    }\n",
       "\n",
       "    .dataframe tbody tr th {\n",
       "        vertical-align: top;\n",
       "    }\n",
       "\n",
       "    .dataframe thead th {\n",
       "        text-align: right;\n",
       "    }\n",
       "</style>\n",
       "<table border=\"1\" class=\"dataframe\">\n",
       "  <thead>\n",
       "    <tr style=\"text-align: right;\">\n",
       "      <th></th>\n",
       "      <th>invoice_no</th>\n",
       "      <th>customer_id</th>\n",
       "      <th>gender</th>\n",
       "      <th>age</th>\n",
       "      <th>category</th>\n",
       "      <th>quantity</th>\n",
       "      <th>price</th>\n",
       "      <th>payment_method</th>\n",
       "      <th>invoice_date</th>\n",
       "      <th>shopping_mall</th>\n",
       "    </tr>\n",
       "  </thead>\n",
       "  <tbody>\n",
       "    <tr>\n",
       "      <th>0</th>\n",
       "      <td>False</td>\n",
       "      <td>False</td>\n",
       "      <td>False</td>\n",
       "      <td>False</td>\n",
       "      <td>False</td>\n",
       "      <td>False</td>\n",
       "      <td>False</td>\n",
       "      <td>False</td>\n",
       "      <td>False</td>\n",
       "      <td>False</td>\n",
       "    </tr>\n",
       "    <tr>\n",
       "      <th>1</th>\n",
       "      <td>False</td>\n",
       "      <td>False</td>\n",
       "      <td>False</td>\n",
       "      <td>False</td>\n",
       "      <td>False</td>\n",
       "      <td>False</td>\n",
       "      <td>False</td>\n",
       "      <td>False</td>\n",
       "      <td>False</td>\n",
       "      <td>False</td>\n",
       "    </tr>\n",
       "    <tr>\n",
       "      <th>2</th>\n",
       "      <td>False</td>\n",
       "      <td>False</td>\n",
       "      <td>False</td>\n",
       "      <td>False</td>\n",
       "      <td>False</td>\n",
       "      <td>False</td>\n",
       "      <td>False</td>\n",
       "      <td>False</td>\n",
       "      <td>False</td>\n",
       "      <td>False</td>\n",
       "    </tr>\n",
       "    <tr>\n",
       "      <th>3</th>\n",
       "      <td>False</td>\n",
       "      <td>False</td>\n",
       "      <td>False</td>\n",
       "      <td>False</td>\n",
       "      <td>False</td>\n",
       "      <td>False</td>\n",
       "      <td>False</td>\n",
       "      <td>False</td>\n",
       "      <td>False</td>\n",
       "      <td>False</td>\n",
       "    </tr>\n",
       "    <tr>\n",
       "      <th>4</th>\n",
       "      <td>False</td>\n",
       "      <td>False</td>\n",
       "      <td>False</td>\n",
       "      <td>False</td>\n",
       "      <td>False</td>\n",
       "      <td>False</td>\n",
       "      <td>False</td>\n",
       "      <td>False</td>\n",
       "      <td>False</td>\n",
       "      <td>False</td>\n",
       "    </tr>\n",
       "    <tr>\n",
       "      <th>...</th>\n",
       "      <td>...</td>\n",
       "      <td>...</td>\n",
       "      <td>...</td>\n",
       "      <td>...</td>\n",
       "      <td>...</td>\n",
       "      <td>...</td>\n",
       "      <td>...</td>\n",
       "      <td>...</td>\n",
       "      <td>...</td>\n",
       "      <td>...</td>\n",
       "    </tr>\n",
       "    <tr>\n",
       "      <th>99452</th>\n",
       "      <td>False</td>\n",
       "      <td>False</td>\n",
       "      <td>False</td>\n",
       "      <td>False</td>\n",
       "      <td>False</td>\n",
       "      <td>False</td>\n",
       "      <td>False</td>\n",
       "      <td>False</td>\n",
       "      <td>False</td>\n",
       "      <td>False</td>\n",
       "    </tr>\n",
       "    <tr>\n",
       "      <th>99453</th>\n",
       "      <td>False</td>\n",
       "      <td>False</td>\n",
       "      <td>False</td>\n",
       "      <td>False</td>\n",
       "      <td>False</td>\n",
       "      <td>False</td>\n",
       "      <td>False</td>\n",
       "      <td>False</td>\n",
       "      <td>False</td>\n",
       "      <td>False</td>\n",
       "    </tr>\n",
       "    <tr>\n",
       "      <th>99454</th>\n",
       "      <td>False</td>\n",
       "      <td>False</td>\n",
       "      <td>False</td>\n",
       "      <td>False</td>\n",
       "      <td>False</td>\n",
       "      <td>False</td>\n",
       "      <td>False</td>\n",
       "      <td>False</td>\n",
       "      <td>False</td>\n",
       "      <td>False</td>\n",
       "    </tr>\n",
       "    <tr>\n",
       "      <th>99455</th>\n",
       "      <td>False</td>\n",
       "      <td>False</td>\n",
       "      <td>False</td>\n",
       "      <td>False</td>\n",
       "      <td>False</td>\n",
       "      <td>False</td>\n",
       "      <td>False</td>\n",
       "      <td>False</td>\n",
       "      <td>False</td>\n",
       "      <td>False</td>\n",
       "    </tr>\n",
       "    <tr>\n",
       "      <th>99456</th>\n",
       "      <td>False</td>\n",
       "      <td>False</td>\n",
       "      <td>False</td>\n",
       "      <td>False</td>\n",
       "      <td>False</td>\n",
       "      <td>False</td>\n",
       "      <td>False</td>\n",
       "      <td>False</td>\n",
       "      <td>False</td>\n",
       "      <td>False</td>\n",
       "    </tr>\n",
       "  </tbody>\n",
       "</table>\n",
       "<p>99457 rows × 10 columns</p>\n",
       "</div>"
      ],
      "text/plain": [
       "       invoice_no  customer_id  gender    age  category  quantity  price  \\\n",
       "0           False        False   False  False     False     False  False   \n",
       "1           False        False   False  False     False     False  False   \n",
       "2           False        False   False  False     False     False  False   \n",
       "3           False        False   False  False     False     False  False   \n",
       "4           False        False   False  False     False     False  False   \n",
       "...           ...          ...     ...    ...       ...       ...    ...   \n",
       "99452       False        False   False  False     False     False  False   \n",
       "99453       False        False   False  False     False     False  False   \n",
       "99454       False        False   False  False     False     False  False   \n",
       "99455       False        False   False  False     False     False  False   \n",
       "99456       False        False   False  False     False     False  False   \n",
       "\n",
       "       payment_method  invoice_date  shopping_mall  \n",
       "0               False         False          False  \n",
       "1               False         False          False  \n",
       "2               False         False          False  \n",
       "3               False         False          False  \n",
       "4               False         False          False  \n",
       "...               ...           ...            ...  \n",
       "99452           False         False          False  \n",
       "99453           False         False          False  \n",
       "99454           False         False          False  \n",
       "99455           False         False          False  \n",
       "99456           False         False          False  \n",
       "\n",
       "[99457 rows x 10 columns]"
      ]
     },
     "execution_count": 12,
     "metadata": {},
     "output_type": "execute_result"
    }
   ],
   "source": [
    "data.isnull()"
   ]
  },
  {
   "cell_type": "code",
   "execution_count": 13,
   "id": "f47b6fad-1faa-40f2-baac-f8d4f6cd49b8",
   "metadata": {},
   "outputs": [
    {
     "name": "stdout",
     "output_type": "stream",
     "text": [
      "To_find Average Basket Size\n",
      "Total_no_of_items_purchesed 298712\n"
     ]
    }
   ],
   "source": [
    "print(\"To_find Average Basket Size\")\n",
    "Total_no_of_items_purchesed=data['quantity'].sum()\n",
    "print('Total_no_of_items_purchesed',Total_no_of_items_purchesed)"
   ]
  },
  {
   "cell_type": "code",
   "execution_count": 14,
   "id": "a03b9465-d67c-4082-9e56-3916a487a508",
   "metadata": {},
   "outputs": [
    {
     "name": "stdout",
     "output_type": "stream",
     "text": [
      "Total number of Trancations 99457\n"
     ]
    }
   ],
   "source": [
    "Transactions=data['invoice_no'].count()\n",
    "print(\"Total number of Trancations\",Transactions)"
   ]
  },
  {
   "cell_type": "code",
   "execution_count": 15,
   "id": "7152b77e-0bfc-42ca-9041-93972734abcf",
   "metadata": {},
   "outputs": [
    {
     "name": "stdout",
     "output_type": "stream",
     "text": [
      "Avearge Basket Size 3.003428617392441\n"
     ]
    }
   ],
   "source": [
    "avg=Total_no_of_items_purchesed/Transactions\n",
    "print('Avearge Basket Size',avg)"
   ]
  },
  {
   "cell_type": "code",
   "execution_count": 16,
   "id": "e606853e-8d07-4069-ad48-0dd3ebb933ed",
   "metadata": {},
   "outputs": [
    {
     "name": "stdout",
     "output_type": "stream",
     "text": [
      "which product is most frequently purches by gender\n"
     ]
    }
   ],
   "source": [
    "print(\"which product is most frequently purches by gender\")"
   ]
  },
  {
   "cell_type": "code",
   "execution_count": 17,
   "id": "e3e0932f-c86f-41d8-8a87-4b76249bc5a8",
   "metadata": {},
   "outputs": [],
   "source": [
    "gender_product_counts=data.groupby(['gender','category'])['quantity'].sum().reset_index()"
   ]
  },
  {
   "cell_type": "code",
   "execution_count": 19,
   "id": "091bc5f4-286e-4ab8-9198-2d0e4c7a7306",
   "metadata": {},
   "outputs": [],
   "source": [
    "# (Get_superate_data_of_gender)"
   ]
  },
  {
   "cell_type": "code",
   "execution_count": 20,
   "id": "2d46d9a2-879c-4f25-a74a-75ae3d7cc0cd",
   "metadata": {},
   "outputs": [],
   "source": [
    "most_purchased_per_gender = gender_product_counts.loc[\n",
    "    gender_product_counts.groupby(\"gender\")[\"quantity\"].idxmax()\n",
    "]\n"
   ]
  },
  {
   "cell_type": "code",
   "execution_count": 21,
   "id": "7c122aaf-5f8c-42ce-be02-c3ff058d7d41",
   "metadata": {},
   "outputs": [
    {
     "data": {
      "text/html": [
       "<div>\n",
       "<style scoped>\n",
       "    .dataframe tbody tr th:only-of-type {\n",
       "        vertical-align: middle;\n",
       "    }\n",
       "\n",
       "    .dataframe tbody tr th {\n",
       "        vertical-align: top;\n",
       "    }\n",
       "\n",
       "    .dataframe thead th {\n",
       "        text-align: right;\n",
       "    }\n",
       "</style>\n",
       "<table border=\"1\" class=\"dataframe\">\n",
       "  <thead>\n",
       "    <tr style=\"text-align: right;\">\n",
       "      <th></th>\n",
       "      <th>gender</th>\n",
       "      <th>category</th>\n",
       "      <th>quantity</th>\n",
       "    </tr>\n",
       "  </thead>\n",
       "  <tbody>\n",
       "    <tr>\n",
       "      <th>1</th>\n",
       "      <td>Female</td>\n",
       "      <td>Clothing</td>\n",
       "      <td>62039</td>\n",
       "    </tr>\n",
       "    <tr>\n",
       "      <th>9</th>\n",
       "      <td>Male</td>\n",
       "      <td>Clothing</td>\n",
       "      <td>41519</td>\n",
       "    </tr>\n",
       "  </tbody>\n",
       "</table>\n",
       "</div>"
      ],
      "text/plain": [
       "   gender  category  quantity\n",
       "1  Female  Clothing     62039\n",
       "9    Male  Clothing     41519"
      ]
     },
     "execution_count": 21,
     "metadata": {},
     "output_type": "execute_result"
    }
   ],
   "source": [
    "(most_purchased_per_gender)"
   ]
  },
  {
   "cell_type": "code",
   "execution_count": 22,
   "id": "5f121249-9dc8-485a-94b4-72065af6f17b",
   "metadata": {},
   "outputs": [
    {
     "data": {
      "image/png": "[encoded data removed]",
      "text/plain": [
       "<Figure size 800x500 with 1 Axes>"
      ]
     },
     "metadata": {},
     "output_type": "display_data"
    }
   ],
   "source": [
    "import matplotlib.pyplot as plt\n",
    "import seaborn as sns\n",
    "plt.figure(figsize=(8, 5))\n",
    "sns.barplot(\n",
    "    x=\"gender\",\n",
    "    y=\"quantity\",\n",
    "    hue=\"category\",\n",
    "    data=most_purchased_per_gender,\n",
    "    palette=\"coolwarm\"\n",
    ")\n",
    "\n",
    "plt.xlabel(\"Gender\")\n",
    "plt.ylabel(\"Quantity Purchased\")\n",
    "plt.title(\"Most Frequently Purchased Product Category by Gender\")\n",
    "plt.legend(title=\"Category\")\n",
    "plt.show()"
   ]
  },
  {
   "cell_type": "code",
   "execution_count": 23,
   "id": "7cc82606-2564-4ff2-b46a-74723c693e74",
   "metadata": {},
   "outputs": [
    {
     "name": "stdout",
     "output_type": "stream",
     "text": [
      "the Month & Year with the Highest Sales\n"
     ]
    },
    {
     "data": {
      "text/plain": [
       "0      5/8/2022\n",
       "1    12/12/2021\n",
       "2     9/11/2021\n",
       "3    16/05/2021\n",
       "4    24/10/2021\n",
       "Name: invoice_date, dtype: object"
      ]
     },
     "execution_count": 23,
     "metadata": {},
     "output_type": "execute_result"
    }
   ],
   "source": [
    "print('the Month & Year with the Highest Sales')\n",
    "data['invoice_date'].head()"
   ]
  },
  {
   "cell_type": "code",
   "execution_count": 24,
   "id": "bda6fffd-e8ec-464f-9745-4d6f558b3f92",
   "metadata": {},
   "outputs": [],
   "source": [
    "data['invoice_date']=pd.to_datetime(data['invoice_date'], format=\"%d/%m/%Y\", errors=\"coerce\")"
   ]
  },
  {
   "cell_type": "code",
   "execution_count": 25,
   "id": "30ce7771-20dc-48ca-9d75-ff0fcd039bfd",
   "metadata": {},
   "outputs": [
    {
     "data": {
      "text/plain": [
       "0   2022-08-05\n",
       "1   2021-12-12\n",
       "2   2021-11-09\n",
       "3   2021-05-16\n",
       "4   2021-10-24\n",
       "Name: invoice_date, dtype: datetime64[ns]"
      ]
     },
     "execution_count": 25,
     "metadata": {},
     "output_type": "execute_result"
    }
   ],
   "source": [
    "data['invoice_date'].head()"
   ]
  },
  {
   "cell_type": "code",
   "execution_count": 26,
   "id": "d14da006-78dd-4f31-9024-1196868753ff",
   "metadata": {},
   "outputs": [
    {
     "name": "stdout",
     "output_type": "stream",
     "text": [
      "Extract year and month\n"
     ]
    }
   ],
   "source": [
    "print('Extract year and month')"
   ]
  },
  {
   "cell_type": "code",
   "execution_count": 27,
   "id": "88992264-d3aa-4033-bd53-6735e3138b00",
   "metadata": {},
   "outputs": [],
   "source": [
    "data['year_month']=data['invoice_date'].dt.to_period('M')"
   ]
  },
  {
   "cell_type": "code",
   "execution_count": 28,
   "id": "67f307a2-91bf-4f39-8a8a-a5dab14a68c2",
   "metadata": {},
   "outputs": [
    {
     "data": {
      "text/plain": [
       "0    2022-08\n",
       "1    2021-12\n",
       "2    2021-11\n",
       "3    2021-05\n",
       "4    2021-10\n",
       "Name: year_month, dtype: period[M]"
      ]
     },
     "execution_count": 28,
     "metadata": {},
     "output_type": "execute_result"
    }
   ],
   "source": [
    "data['year_month'].head()"
   ]
  },
  {
   "cell_type": "code",
   "execution_count": 29,
   "id": "209583ae-6b7b-4dfd-90ee-c6096e540655",
   "metadata": {},
   "outputs": [],
   "source": [
    "Monthly_sales=data.groupby('year_month')['quantity'].sum().reset_index()\n"
   ]
  },
  {
   "cell_type": "code",
   "execution_count": 30,
   "id": "ce7c59b7-d6e0-465b-9ec6-fba9a06452c7",
   "metadata": {},
   "outputs": [
    {
     "data": {
      "text/plain": [
       "year_month    2021-07\n",
       "quantity        11986\n",
       "Name: 6, dtype: object"
      ]
     },
     "execution_count": 30,
     "metadata": {},
     "output_type": "execute_result"
    }
   ],
   "source": [
    "peak_month=Monthly_sales.loc[Monthly_sales['quantity'].idxmax()]\n",
    "peak_month"
   ]
  },
  {
   "cell_type": "code",
   "execution_count": 31,
   "id": "9a2fe3e7-3e22-4d46-8d5f-e60a89f22953",
   "metadata": {},
   "outputs": [
    {
     "data": {
      "image/png": "[encoded data removed]",
      "text/plain": [
       "<Figure size 1200x800 with 1 Axes>"
      ]
     },
     "metadata": {},
     "output_type": "display_data"
    }
   ],
   "source": [
    "import matplotlib.pyplot as plt\n",
    "plt.figure(figsize=(12,8))\n",
    "plt.plot(Monthly_sales['year_month'].astype(str),Monthly_sales['quantity'],marker=\"o\", linestyle=\"-\", color=\"b\")\n",
    "plt.xlabel(\"Month-Year\")\n",
    "plt.ylabel(\"Total Items Sold\")\n",
    "plt.title(\" Monthly Sales Trend\")\n",
    "plt.grid()\n",
    "plt.show()"
   ]
  },
  {
   "cell_type": "code",
   "execution_count": 32,
   "id": "2ebb1ab8-08eb-49fe-83f7-cccb107c1d4f",
   "metadata": {},
   "outputs": [
    {
     "name": "stdout",
     "output_type": "stream",
     "text": [
      " Find the  Year with the Highest Sales\n"
     ]
    }
   ],
   "source": [
    "print(' Find the  Year with the Highest Sales')\n",
    "data['year']=data['invoice_date'].dt.year\n",
    "data['month']=data['invoice_date'].dt.month"
   ]
  },
  {
   "cell_type": "code",
   "execution_count": 33,
   "id": "3c19ef50-5c7d-4804-96e1-29d8583afa8b",
   "metadata": {},
   "outputs": [
    {
     "name": "stdout",
     "output_type": "stream",
     "text": [
      "find totdal sales\n"
     ]
    },
    {
     "data": {
      "text/plain": [
       "0         7502.00\n",
       "1         5401.53\n",
       "2          300.08\n",
       "3        15004.25\n",
       "4          242.40\n",
       "           ...   \n",
       "99452      293.25\n",
       "99453       20.92\n",
       "99454       20.92\n",
       "99455    16800.00\n",
       "99456      105.57\n",
       "Name: total_sales, Length: 99457, dtype: float64"
      ]
     },
     "execution_count": 33,
     "metadata": {},
     "output_type": "execute_result"
    }
   ],
   "source": [
    "print(\"find totdal sales\")\n",
    "data['total_sales']=data['quantity']*data['price']\n",
    "data['total_sales']"
   ]
  },
  {
   "cell_type": "code",
   "execution_count": 34,
   "id": "828c6027-9b54-4461-9d11-664ec9bba5e3",
   "metadata": {},
   "outputs": [],
   "source": [
    "yearly_sales = data.groupby(\"year\")[\"total_sales\"].sum().reset_index()\n",
    "monthly_sales = data.groupby([\"year\", \"month\"])[\"total_sales\"].sum().reset_index()"
   ]
  },
  {
   "cell_type": "code",
   "execution_count": 35,
   "id": "97c30499-aa0e-43ca-91e6-1f2cb4456f06",
   "metadata": {},
   "outputs": [
    {
     "name": "stdout",
     "output_type": "stream",
     "text": [
      "total Sales odf the year\n"
     ]
    },
    {
     "data": {
      "text/html": [
       "<div>\n",
       "<style scoped>\n",
       "    .dataframe tbody tr th:only-of-type {\n",
       "        vertical-align: middle;\n",
       "    }\n",
       "\n",
       "    .dataframe tbody tr th {\n",
       "        vertical-align: top;\n",
       "    }\n",
       "\n",
       "    .dataframe thead th {\n",
       "        text-align: right;\n",
       "    }\n",
       "</style>\n",
       "<table border=\"1\" class=\"dataframe\">\n",
       "  <thead>\n",
       "    <tr style=\"text-align: right;\">\n",
       "      <th></th>\n",
       "      <th>year</th>\n",
       "      <th>total_sales</th>\n",
       "    </tr>\n",
       "  </thead>\n",
       "  <tbody>\n",
       "    <tr>\n",
       "      <th>0</th>\n",
       "      <td>2021</td>\n",
       "      <td>1.145606e+08</td>\n",
       "    </tr>\n",
       "    <tr>\n",
       "      <th>1</th>\n",
       "      <td>2022</td>\n",
       "      <td>1.154368e+08</td>\n",
       "    </tr>\n",
       "    <tr>\n",
       "      <th>2</th>\n",
       "      <td>2023</td>\n",
       "      <td>2.150841e+07</td>\n",
       "    </tr>\n",
       "  </tbody>\n",
       "</table>\n",
       "</div>"
      ],
      "text/plain": [
       "   year   total_sales\n",
       "0  2021  1.145606e+08\n",
       "1  2022  1.154368e+08\n",
       "2  2023  2.150841e+07"
      ]
     },
     "execution_count": 35,
     "metadata": {},
     "output_type": "execute_result"
    }
   ],
   "source": [
    "print('total Sales odf the year')\n",
    "yearly_sales"
   ]
  },
  {
   "cell_type": "code",
   "execution_count": 36,
   "id": "8b964667-c184-4665-b3af-f54729be1310",
   "metadata": {},
   "outputs": [
    {
     "name": "stdout",
     "output_type": "stream",
     "text": [
      "total Sales odf the month\n"
     ]
    },
    {
     "data": {
      "text/html": [
       "<div>\n",
       "<style scoped>\n",
       "    .dataframe tbody tr th:only-of-type {\n",
       "        vertical-align: middle;\n",
       "    }\n",
       "\n",
       "    .dataframe tbody tr th {\n",
       "        vertical-align: top;\n",
       "    }\n",
       "\n",
       "    .dataframe thead th {\n",
       "        text-align: right;\n",
       "    }\n",
       "</style>\n",
       "<table border=\"1\" class=\"dataframe\">\n",
       "  <thead>\n",
       "    <tr style=\"text-align: right;\">\n",
       "      <th></th>\n",
       "      <th>year</th>\n",
       "      <th>month</th>\n",
       "      <th>total_sales</th>\n",
       "    </tr>\n",
       "  </thead>\n",
       "  <tbody>\n",
       "    <tr>\n",
       "      <th>0</th>\n",
       "      <td>2021</td>\n",
       "      <td>1</td>\n",
       "      <td>9641614.62</td>\n",
       "    </tr>\n",
       "    <tr>\n",
       "      <th>1</th>\n",
       "      <td>2021</td>\n",
       "      <td>2</td>\n",
       "      <td>8772315.22</td>\n",
       "    </tr>\n",
       "    <tr>\n",
       "      <th>2</th>\n",
       "      <td>2021</td>\n",
       "      <td>3</td>\n",
       "      <td>9455359.38</td>\n",
       "    </tr>\n",
       "    <tr>\n",
       "      <th>3</th>\n",
       "      <td>2021</td>\n",
       "      <td>4</td>\n",
       "      <td>9389541.54</td>\n",
       "    </tr>\n",
       "    <tr>\n",
       "      <th>4</th>\n",
       "      <td>2021</td>\n",
       "      <td>5</td>\n",
       "      <td>9771756.97</td>\n",
       "    </tr>\n",
       "    <tr>\n",
       "      <th>5</th>\n",
       "      <td>2021</td>\n",
       "      <td>6</td>\n",
       "      <td>9286271.35</td>\n",
       "    </tr>\n",
       "    <tr>\n",
       "      <th>6</th>\n",
       "      <td>2021</td>\n",
       "      <td>7</td>\n",
       "      <td>10311119.68</td>\n",
       "    </tr>\n",
       "    <tr>\n",
       "      <th>7</th>\n",
       "      <td>2021</td>\n",
       "      <td>8</td>\n",
       "      <td>9630655.70</td>\n",
       "    </tr>\n",
       "    <tr>\n",
       "      <th>8</th>\n",
       "      <td>2021</td>\n",
       "      <td>9</td>\n",
       "      <td>9188165.62</td>\n",
       "    </tr>\n",
       "    <tr>\n",
       "      <th>9</th>\n",
       "      <td>2021</td>\n",
       "      <td>10</td>\n",
       "      <td>10263015.06</td>\n",
       "    </tr>\n",
       "    <tr>\n",
       "      <th>10</th>\n",
       "      <td>2021</td>\n",
       "      <td>11</td>\n",
       "      <td>9265555.29</td>\n",
       "    </tr>\n",
       "    <tr>\n",
       "      <th>11</th>\n",
       "      <td>2021</td>\n",
       "      <td>12</td>\n",
       "      <td>9585200.16</td>\n",
       "    </tr>\n",
       "    <tr>\n",
       "      <th>12</th>\n",
       "      <td>2022</td>\n",
       "      <td>1</td>\n",
       "      <td>9764311.14</td>\n",
       "    </tr>\n",
       "    <tr>\n",
       "      <th>13</th>\n",
       "      <td>2022</td>\n",
       "      <td>2</td>\n",
       "      <td>8344111.92</td>\n",
       "    </tr>\n",
       "    <tr>\n",
       "      <th>14</th>\n",
       "      <td>2022</td>\n",
       "      <td>3</td>\n",
       "      <td>9986685.16</td>\n",
       "    </tr>\n",
       "    <tr>\n",
       "      <th>15</th>\n",
       "      <td>2022</td>\n",
       "      <td>4</td>\n",
       "      <td>9326144.44</td>\n",
       "    </tr>\n",
       "    <tr>\n",
       "      <th>16</th>\n",
       "      <td>2022</td>\n",
       "      <td>5</td>\n",
       "      <td>9947574.13</td>\n",
       "    </tr>\n",
       "    <tr>\n",
       "      <th>17</th>\n",
       "      <td>2022</td>\n",
       "      <td>6</td>\n",
       "      <td>9647503.95</td>\n",
       "    </tr>\n",
       "    <tr>\n",
       "      <th>18</th>\n",
       "      <td>2022</td>\n",
       "      <td>7</td>\n",
       "      <td>10067602.95</td>\n",
       "    </tr>\n",
       "    <tr>\n",
       "      <th>19</th>\n",
       "      <td>2022</td>\n",
       "      <td>8</td>\n",
       "      <td>9651705.59</td>\n",
       "    </tr>\n",
       "    <tr>\n",
       "      <th>20</th>\n",
       "      <td>2022</td>\n",
       "      <td>9</td>\n",
       "      <td>9607629.29</td>\n",
       "    </tr>\n",
       "    <tr>\n",
       "      <th>21</th>\n",
       "      <td>2022</td>\n",
       "      <td>10</td>\n",
       "      <td>10282075.37</td>\n",
       "    </tr>\n",
       "    <tr>\n",
       "      <th>22</th>\n",
       "      <td>2022</td>\n",
       "      <td>11</td>\n",
       "      <td>8941584.66</td>\n",
       "    </tr>\n",
       "    <tr>\n",
       "      <th>23</th>\n",
       "      <td>2022</td>\n",
       "      <td>12</td>\n",
       "      <td>9869885.48</td>\n",
       "    </tr>\n",
       "    <tr>\n",
       "      <th>24</th>\n",
       "      <td>2023</td>\n",
       "      <td>1</td>\n",
       "      <td>9485599.83</td>\n",
       "    </tr>\n",
       "    <tr>\n",
       "      <th>25</th>\n",
       "      <td>2023</td>\n",
       "      <td>2</td>\n",
       "      <td>9508662.96</td>\n",
       "    </tr>\n",
       "    <tr>\n",
       "      <th>26</th>\n",
       "      <td>2023</td>\n",
       "      <td>3</td>\n",
       "      <td>2514146.79</td>\n",
       "    </tr>\n",
       "  </tbody>\n",
       "</table>\n",
       "</div>"
      ],
      "text/plain": [
       "    year  month  total_sales\n",
       "0   2021      1   9641614.62\n",
       "1   2021      2   8772315.22\n",
       "2   2021      3   9455359.38\n",
       "3   2021      4   9389541.54\n",
       "4   2021      5   9771756.97\n",
       "5   2021      6   9286271.35\n",
       "6   2021      7  10311119.68\n",
       "7   2021      8   9630655.70\n",
       "8   2021      9   9188165.62\n",
       "9   2021     10  10263015.06\n",
       "10  2021     11   9265555.29\n",
       "11  2021     12   9585200.16\n",
       "12  2022      1   9764311.14\n",
       "13  2022      2   8344111.92\n",
       "14  2022      3   9986685.16\n",
       "15  2022      4   9326144.44\n",
       "16  2022      5   9947574.13\n",
       "17  2022      6   9647503.95\n",
       "18  2022      7  10067602.95\n",
       "19  2022      8   9651705.59\n",
       "20  2022      9   9607629.29\n",
       "21  2022     10  10282075.37\n",
       "22  2022     11   8941584.66\n",
       "23  2022     12   9869885.48\n",
       "24  2023      1   9485599.83\n",
       "25  2023      2   9508662.96\n",
       "26  2023      3   2514146.79"
      ]
     },
     "execution_count": 36,
     "metadata": {},
     "output_type": "execute_result"
    }
   ],
   "source": [
    "print('total Sales odf the month')\n",
    "monthly_sales"
   ]
  },
  {
   "cell_type": "code",
   "execution_count": 37,
   "id": "147513fa-f9a9-46df-ac41-8b3e49a49426",
   "metadata": {},
   "outputs": [
    {
     "data": {
      "image/png": "[encoded data removed]",
      "text/plain": [
       "<Figure size 640x480 with 2 Axes>"
      ]
     },
     "metadata": {},
     "output_type": "display_data"
    }
   ],
   "source": [
    "plt.subplot(1, 2, 1)\n",
    "plt.bar(yearly_sales[\"year\"].astype(str), yearly_sales[\"total_sales\"], color=\"blue\")\n",
    "plt.xlabel(\"Year\")\n",
    "plt.ylabel(\"Total Sales\")\n",
    "plt.title(\" Total Sales by Year\")\n",
    "plt.subplot(1, 2, 2)\n",
    "for year in monthly_sales[\"year\"].unique():\n",
    "    subset = monthly_sales[monthly_sales[\"year\"] == year]\n",
    "    plt.plot(subset[\"month\"], subset[\"total_sales\"], marker=\"o\", label=f\"Year {year}\")\n",
    "\n",
    "plt.xlabel(\"Month\")\n",
    "plt.ylabel(\"Total Sales\")\n",
    "plt.title(\" Monthly Sales Trend\")\n",
    "plt.xticks(range(1, 13))\n",
    "plt.legend()\n",
    "\n",
    "plt.tight_layout()\n",
    "plt.show()"
   ]
  },
  {
   "cell_type": "code",
   "execution_count": 38,
   "id": "93cf1a74-d436-46ef-a9e0-b321fd99dedc",
   "metadata": {},
   "outputs": [],
   "source": [
    "category_monthly_sales=data.groupby(['category','month'])['total_sales'].sum().reset_index()"
   ]
  },
  {
   "cell_type": "code",
   "execution_count": 39,
   "id": "e98740ed-ed2e-418e-b21b-a7880a735213",
   "metadata": {},
   "outputs": [],
   "source": [
    "highest_sales_for_each_category=category_monthly_sales.loc[\n",
    "category_monthly_sales.groupby('category')['total_sales'].idxmax()\n",
    "]"
   ]
  },
  {
   "cell_type": "code",
   "execution_count": 40,
   "id": "1333e482-6729-4e4b-aef3-ae3174cd35d1",
   "metadata": {},
   "outputs": [
    {
     "data": {
      "text/html": [
       "<div>\n",
       "<style scoped>\n",
       "    .dataframe tbody tr th:only-of-type {\n",
       "        vertical-align: middle;\n",
       "    }\n",
       "\n",
       "    .dataframe tbody tr th {\n",
       "        vertical-align: top;\n",
       "    }\n",
       "\n",
       "    .dataframe thead th {\n",
       "        text-align: right;\n",
       "    }\n",
       "</style>\n",
       "<table border=\"1\" class=\"dataframe\">\n",
       "  <thead>\n",
       "    <tr style=\"text-align: right;\">\n",
       "      <th></th>\n",
       "      <th>category</th>\n",
       "      <th>month</th>\n",
       "      <th>total_sales</th>\n",
       "    </tr>\n",
       "  </thead>\n",
       "  <tbody>\n",
       "    <tr>\n",
       "      <th>0</th>\n",
       "      <td>Books</td>\n",
       "      <td>1</td>\n",
       "      <td>99596.10</td>\n",
       "    </tr>\n",
       "    <tr>\n",
       "      <th>12</th>\n",
       "      <td>Clothing</td>\n",
       "      <td>1</td>\n",
       "      <td>12992863.84</td>\n",
       "    </tr>\n",
       "    <tr>\n",
       "      <th>24</th>\n",
       "      <td>Cosmetics</td>\n",
       "      <td>1</td>\n",
       "      <td>810069.18</td>\n",
       "    </tr>\n",
       "    <tr>\n",
       "      <th>36</th>\n",
       "      <td>Food &amp; Beverage</td>\n",
       "      <td>1</td>\n",
       "      <td>95018.64</td>\n",
       "    </tr>\n",
       "    <tr>\n",
       "      <th>48</th>\n",
       "      <td>Shoes</td>\n",
       "      <td>1</td>\n",
       "      <td>7531533.33</td>\n",
       "    </tr>\n",
       "    <tr>\n",
       "      <th>60</th>\n",
       "      <td>Souvenir</td>\n",
       "      <td>1</td>\n",
       "      <td>78755.22</td>\n",
       "    </tr>\n",
       "    <tr>\n",
       "      <th>72</th>\n",
       "      <td>Technology</td>\n",
       "      <td>1</td>\n",
       "      <td>6808200.00</td>\n",
       "    </tr>\n",
       "    <tr>\n",
       "      <th>84</th>\n",
       "      <td>Toys</td>\n",
       "      <td>1</td>\n",
       "      <td>475489.28</td>\n",
       "    </tr>\n",
       "  </tbody>\n",
       "</table>\n",
       "</div>"
      ],
      "text/plain": [
       "           category  month  total_sales\n",
       "0             Books      1     99596.10\n",
       "12         Clothing      1  12992863.84\n",
       "24        Cosmetics      1    810069.18\n",
       "36  Food & Beverage      1     95018.64\n",
       "48            Shoes      1   7531533.33\n",
       "60         Souvenir      1     78755.22\n",
       "72       Technology      1   6808200.00\n",
       "84             Toys      1    475489.28"
      ]
     },
     "execution_count": 40,
     "metadata": {},
     "output_type": "execute_result"
    }
   ],
   "source": [
    "highest_sales_for_each_category"
   ]
  },
  {
   "cell_type": "code",
   "execution_count": 41,
   "id": "6bfb03d3-6c70-4803-b290-4d904093a4aa",
   "metadata": {},
   "outputs": [
    {
     "data": {
      "image/png": "[encoded data removed]",
      "text/plain": [
       "<Figure size 1200x600 with 1 Axes>"
      ]
     },
     "metadata": {},
     "output_type": "display_data"
    }
   ],
   "source": [
    "plt.figure(figsize=(12, 6))\n",
    "\n",
    "for category in category_monthly_sales[\"category\"].unique():\n",
    "    subset = category_monthly_sales[category_monthly_sales[\"category\"] == category]\n",
    "    plt.plot(subset[\"month\"], subset[\"total_sales\"], marker=\"o\", label=category)\n",
    "\n",
    "plt.xlabel(\"Month\")\n",
    "plt.ylabel(\"Total Sales\")\n",
    "plt.title(\"Monthly Sales Trends by Category\")\n",
    "plt.xticks(range(1, 13)) \n",
    "plt.legend()\n",
    "plt.grid(True)\n",
    "\n",
    "plt.show()"
   ]
  },
  {
   "cell_type": "code",
   "execution_count": 42,
   "id": "8c99460d-62da-4dd8-9aa1-030430969d36",
   "metadata": {},
   "outputs": [
    {
     "name": "stdout",
     "output_type": "stream",
     "text": [
      "to get avg basket value for each order\n",
      "taotal_revenue: 251505794.25000003\n"
     ]
    }
   ],
   "source": [
    "print(\"to get avg basket value for each order\")\n",
    "total_revenue=data['total_sales'].sum()\n",
    "print('taotal_revenue:',total_revenue)"
   ]
  },
  {
   "cell_type": "code",
   "execution_count": 43,
   "id": "5daccb99-5e66-488c-a3db-22ecc62c52f4",
   "metadata": {},
   "outputs": [
    {
     "data": {
      "text/plain": [
       "99457"
      ]
     },
     "execution_count": 43,
     "metadata": {},
     "output_type": "execute_result"
    }
   ],
   "source": [
    "total_order=data['invoice_no'].nunique()\n",
    "total_order"
   ]
  },
  {
   "cell_type": "code",
   "execution_count": 44,
   "id": "aeebc083-5a7e-4934-a55c-0ab4c7414ea8",
   "metadata": {},
   "outputs": [],
   "source": [
    "avg_basket_peroerder=abs(total_revenue)/int(total_order)"
   ]
  },
  {
   "cell_type": "code",
   "execution_count": 45,
   "id": "d2d5ca4d-e4f6-4331-837f-481e4a250fb6",
   "metadata": {},
   "outputs": [
    {
     "data": {
      "text/plain": [
       "2528.78926822647"
      ]
     },
     "execution_count": 45,
     "metadata": {},
     "output_type": "execute_result"
    }
   ],
   "source": [
    "avg_basket_peroerder"
   ]
  },
  {
   "cell_type": "code",
   "execution_count": 46,
   "id": "63f69d10-9fbe-41b0-a138-9e75393a0248",
   "metadata": {},
   "outputs": [
    {
     "name": "stdout",
     "output_type": "stream",
     "text": [
      "Top 5 customers who spend more money\n"
     ]
    }
   ],
   "source": [
    "print(\"Top 5 customers who spend more money\")\n"
   ]
  },
  {
   "cell_type": "code",
   "execution_count": 47,
   "id": "ecf7aa60-b13b-4a49-8873-82d18b1a5e37",
   "metadata": {},
   "outputs": [],
   "source": [
    "top_5=data.groupby(['invoice_no','gender'])['total_sales'].sum()"
   ]
  },
  {
   "cell_type": "code",
   "execution_count": 48,
   "id": "f59c56b7-1ccf-457e-8cfd-1558e83ee7a1",
   "metadata": {},
   "outputs": [
    {
     "data": {
      "text/plain": [
       "invoice_no  gender\n",
       "I281969     Female    26250.0\n",
       "I111903     Female    26250.0\n",
       "I813373     Male      26250.0\n",
       "I222993     Male      26250.0\n",
       "I343371     Female    26250.0\n",
       "Name: total_sales, dtype: float64"
      ]
     },
     "execution_count": 48,
     "metadata": {},
     "output_type": "execute_result"
    }
   ],
   "source": [
    "top_5_customers=top_5.sort_values(ascending=False).head(5)\n",
    "top_5_customers"
   ]
  },
  {
   "cell_type": "code",
   "execution_count": 49,
   "id": "b45568ae-3f5d-43d5-8bc3-7aa39c0e67a0",
   "metadata": {},
   "outputs": [
    {
     "data": {
      "text/plain": [
       "category  year_month\n",
       "Clothing  2021-07       4892204.24\n",
       "Name: total_sales, dtype: float64"
      ]
     },
     "execution_count": 49,
     "metadata": {},
     "output_type": "execute_result"
    }
   ],
   "source": [
    "top_3=data.groupby(['category','year_month'])['total_sales'].sum()\n",
    "top_3_products=top_3.sort_values(ascending=False).head(1)\n",
    "top_3_products"
   ]
  },
  {
   "cell_type": "code",
   "execution_count": 55,
   "id": "698a7356-799d-464d-8ff3-ab8d884f8eae",
   "metadata": {},
   "outputs": [
    {
     "name": "stdout",
     "output_type": "stream",
     "text": [
      "Count how many customers made repeat purchases percentage and single time visted percentages\n"
     ]
    },
    {
     "data": {
      "image/png": "[encoded data removed]",
      "text/plain": [
       "<Figure size 600x600 with 1 Axes>"
      ]
     },
     "metadata": {},
     "output_type": "display_data"
    }
   ],
   "source": [
    "print(\"Count how many customers made repeat purchases percentage and single time visted percentages\") \n",
    "purchase_counts = data.groupby(\"customer_id\")[\"invoice_no\"].nunique()\n",
    "repeat_buyers=purchase_counts[purchase_counts>1].count()\n",
    "one_time_buyers=purchase_counts[purchase_counts==1].count()\n",
    "total_customers=len(purchase_counts)\n",
    "repeat_percentage = (repeat_buyers / total_customers) * 100\n",
    "one_time_percentage = (one_time_buyers / total_customers) * 100\n",
    "one_time_percentage\n",
    "import matplotlib.pyplot as plt\n",
    "\n",
    "labels = [\"Repeat Customers\", \"One-Time Customers\"]\n",
    "sizes = [repeat_percentage, one_time_percentage]\n",
    "colors = [\"blue\", \"red\"]\n",
    "explode = (0.1, 0)\n",
    "plt.figure(figsize=(6,6))\n",
    "plt.pie(sizes, labels=labels, autopct='%1.1f%%', colors=colors, explode=explode, startangle=90)\n",
    "plt.title(\"Customer Purchase Behavior\")\n",
    "plt.show()"
   ]
  },
  {
   "cell_type": "code",
   "execution_count": 51,
   "id": "5c71bce0-cd29-4d59-8161-6fe4115442fd",
   "metadata": {},
   "outputs": [
    {
     "name": "stdout",
     "output_type": "stream",
     "text": [
      "most profitable shoping mall\n"
     ]
    }
   ],
   "source": [
    "print(\"most profitable shoping mall\")\n",
    "most_profitable_shoping_mall=data.groupby('shopping_mall')['total_sales'].sum().reset_index()"
   ]
  },
  {
   "cell_type": "code",
   "execution_count": 52,
   "id": "7542f572-734e-4b5a-b2d9-5d8c867825f7",
   "metadata": {},
   "outputs": [
    {
     "data": {
      "text/plain": [
       "shopping_mall    Zorlu Center\n",
       "total_sales       50872481.68\n",
       "dtype: object"
      ]
     },
     "execution_count": 52,
     "metadata": {},
     "output_type": "execute_result"
    }
   ],
   "source": [
    "most_profitable_shoping_mall.max()"
   ]
  },
  {
   "cell_type": "code",
   "execution_count": 53,
   "id": "dcc68dd4-36df-4631-a27b-58261cb167e5",
   "metadata": {},
   "outputs": [
    {
     "name": "stdout",
     "output_type": "stream",
     "text": [
      "which shoping mall is most prefed by gender\n"
     ]
    },
    {
     "data": {
      "text/plain": [
       "gender\n",
       "Female              Kanyon\n",
       "Male      Mall of Istanbul\n",
       "dtype: object"
      ]
     },
     "execution_count": 53,
     "metadata": {},
     "output_type": "execute_result"
    }
   ],
   "source": [
    "print(\"which shoping mall is most prefed by gender\")\n",
    "gender_preferd_shoping_mall=data.groupby(['shopping_mall','gender']).size().unstack()\n",
    "gender_preferd_shoping_mall.idxmax()"
   ]
  },
  {
   "cell_type": "code",
   "execution_count": 54,
   "id": "5f265053-dc03-494b-95ea-ee9d591d1c09",
   "metadata": {},
   "outputs": [
    {
     "name": "stdout",
     "output_type": "stream",
     "text": [
      "payment_method by gender\n"
     ]
    },
    {
     "data": {
      "text/html": [
       "<div>\n",
       "<style scoped>\n",
       "    .dataframe tbody tr th:only-of-type {\n",
       "        vertical-align: middle;\n",
       "    }\n",
       "\n",
       "    .dataframe tbody tr th {\n",
       "        vertical-align: top;\n",
       "    }\n",
       "\n",
       "    .dataframe thead th {\n",
       "        text-align: right;\n",
       "    }\n",
       "</style>\n",
       "<table border=\"1\" class=\"dataframe\">\n",
       "  <thead>\n",
       "    <tr style=\"text-align: right;\">\n",
       "      <th>gender</th>\n",
       "      <th>Female</th>\n",
       "      <th>Male</th>\n",
       "    </tr>\n",
       "    <tr>\n",
       "      <th>payment_method</th>\n",
       "      <th></th>\n",
       "      <th></th>\n",
       "    </tr>\n",
       "  </thead>\n",
       "  <tbody>\n",
       "    <tr>\n",
       "      <th>Cash</th>\n",
       "      <td>26509</td>\n",
       "      <td>17938</td>\n",
       "    </tr>\n",
       "    <tr>\n",
       "      <th>Credit Card</th>\n",
       "      <td>21011</td>\n",
       "      <td>13920</td>\n",
       "    </tr>\n",
       "    <tr>\n",
       "      <th>Debit Card</th>\n",
       "      <td>11962</td>\n",
       "      <td>8117</td>\n",
       "    </tr>\n",
       "  </tbody>\n",
       "</table>\n",
       "</div>"
      ],
      "text/plain": [
       "gender          Female   Male\n",
       "payment_method               \n",
       "Cash             26509  17938\n",
       "Credit Card      21011  13920\n",
       "Debit Card       11962   8117"
      ]
     },
     "execution_count": 54,
     "metadata": {},
     "output_type": "execute_result"
    }
   ],
   "source": [
    "print(\"payment_method by gender\")\n",
    "pay_gender=data.groupby(['payment_method','gender']).size().unstack()\n",
    "pay_gender"
   ]
  },
  {
   "cell_type": "code",
   "execution_count": 61,
   "id": "ba63d064-ce37-41cc-bc0d-21e1babc35d8",
   "metadata": {},
   "outputs": [
    {
     "data": {
      "image/png": "[encoded data removed]",
      "text/plain": [
       "<Figure size 1000x500 with 3 Axes>"
      ]
     },
     "metadata": {},
     "output_type": "display_data"
    }
   ],
   "source": [
    "fig,axis=plt.subplots(nrows=1,ncols=len(pay_gender),figsize=(10,5))\n",
    "for ax,(method,values) in zip(axis,pay_gender.iterrows()):\n",
    "    ax.pie(values)\n",
    "    ax.set_title('method')\n",
    "plt.suptitle('Payment methds Distribution by gender')\n",
    "plt.show()"
   ]
  },
  {
   "cell_type": "code",
   "execution_count": null,
   "id": "75cdbb66-2468-470c-a15d-b271e9ddb097",
   "metadata": {},
   "outputs": [],
   "source": []
  }
 ],
 "metadata": {
  "kernelspec": {
   "display_name": "Python 3 (ipykernel)",
   "language": "python",
   "name": "python3"
  },
  "language_info": {
   "codemirror_mode": {
    "name": "ipython",
    "version": 3
   },
   "file_extension": ".py",
   "mimetype": "text/x-python",
   "name": "python",
   "nbconvert_exporter": "python",
   "pygments_lexer": "ipython3",
   "version": "3.10.6"
  }
 },
 "nbformat": 4,
 "nbformat_minor": 5
}
